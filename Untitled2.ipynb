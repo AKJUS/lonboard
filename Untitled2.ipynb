{
 "cells": [
  {
   "cell_type": "code",
   "execution_count": 11,
   "id": "13b0f4b1-6a03-4cb7-a17e-6ca3603396f2",
   "metadata": {},
   "outputs": [],
   "source": [
    "import requests\n",
    "url = \"https://static.observableusercontent.com/files/ad0a1f0e7e5cc8290068443d99bbd1307877e1ba631e30622bbd5fd8adca660d2644fe8181db5dbd8d41be0c2eae868304deeb0efc8690d373553dcb859bc767\"\n",
    "r = requests.get(url)"
   ]
  },
  {
   "cell_type": "code",
   "execution_count": 19,
   "id": "da16fb01-d7a2-4c58-8a1b-1022581ee99d",
   "metadata": {},
   "outputs": [],
   "source": [
    "import pyarrow.parquet as pq"
   ]
  },
  {
   "cell_type": "code",
   "execution_count": 21,
   "id": "b9084c82-fc27-4f5d-8ecc-2b93a6c8ba72",
   "metadata": {},
   "outputs": [],
   "source": [
    "from io import BytesIO"
   ]
  },
  {
   "cell_type": "code",
   "execution_count": 22,
   "id": "a9b88a03-9f4f-4dde-8e90-ae8b6f39d516",
   "metadata": {},
   "outputs": [],
   "source": [
    "bio = BytesIO(r.content)"
   ]
  },
  {
   "cell_type": "code",
   "execution_count": 23,
   "id": "d1c05376-43bf-4a40-be67-642b38986eeb",
   "metadata": {},
   "outputs": [
    {
     "data": {
      "text/plain": [
       "pyarrow.Table\n",
       "avg_d_kbps: uint32\n",
       "avg_u_kbps: uint32\n",
       "avg_lat_ms: uint16\n",
       "geometry: fixed_size_list<item: double>[2]\n",
       "  child 0, item: double\n",
       "----\n",
       "avg_d_kbps: [[5983,3748,3364,2381,3047,...,51719,14313,39268,46186,36352],[24668,12559,101344,27422,11895,...,2613,69716,7548,2364,24200],...,[23371,2345,502,22610,13064,...,27481,283,5744,5416,5367],[823,403,1523,589,168,...,19528,15693,26747,67995,1230]]\n",
       "avg_u_kbps: [[7886,5841,6200,2328,5356,...,5604,5722,4877,20494,14601],[12735,10167,31715,14176,5854,...,25323,30519,19726,356,21695],...,[2921,1290,832,7530,12467,...,13702,66,11318,4805,2839],[2599,5796,1285,1,101,...,3200,10359,9674,13564,1798]]\n",
       "avg_lat_ms: [[68,78,78,86,75,...,27,62,43,21,23],[98,37,47,36,49,...,39,39,52,54,74],...,[42,77,76,30,19,...,41,54,104,110,101],[66,848,474,120,77,...,68,56,58,63,55]]\n",
       "geometry: [[[-160.0186157226565,70.63721610566131],[-160.04058837890648,70.6335732766909],...,[-112.38189697265649,34.56312118203944],[-112.370910644531,34.567644688925704]],[[-112.35992431640648,34.59025853219935],[-112.35443115234348,34.59478056251905],...,[-100.5386352539065,19.6813841091249],[-100.50567626953098,19.66586659718095]],...,[[-35.04364013671875,-8.399016866234934],[-35.00518798828125,-8.366410004204475],...,[112.129211425781,-7.925954457155946],[112.13470458984351,-7.925954457155945]],[[112.14569091796899,-7.925954457155946],[112.063293457031,-7.942276198500981],...,[169.65911865234352,-46.451104725667754],[168.8516235351565,-46.560748811992795]]]"
      ]
     },
     "execution_count": 23,
     "metadata": {},
     "output_type": "execute_result"
    }
   ],
   "source": [
    "pq.read_table(bio)"
   ]
  },
  {
   "cell_type": "code",
   "execution_count": 18,
   "id": "e7276268-11b5-40c9-b0b7-ef67002a4053",
   "metadata": {},
   "outputs": [
    {
     "name": "stdout",
     "output_type": "stream",
     "text": [
      "Collecting pyarrow\n",
      "  Obtaining dependency information for pyarrow from https://files.pythonhosted.org/packages/f6/c8/ad19a273d6e825fcd040f51b559d30f55d652d82f5badf1f546a9a06aeb9/pyarrow-13.0.0-cp311-cp311-macosx_11_0_arm64.whl.metadata\n",
      "  Using cached pyarrow-13.0.0-cp311-cp311-macosx_11_0_arm64.whl.metadata (3.0 kB)\n",
      "Collecting numpy>=1.16.6 (from pyarrow)\n",
      "  Obtaining dependency information for numpy>=1.16.6 from https://files.pythonhosted.org/packages/86/a1/b8ef999c32f26a97b5f714887e21f96c12ae99a38583a0a96e65283ac0a1/numpy-1.25.2-cp311-cp311-macosx_11_0_arm64.whl.metadata\n",
      "  Using cached numpy-1.25.2-cp311-cp311-macosx_11_0_arm64.whl.metadata (5.6 kB)\n",
      "Using cached pyarrow-13.0.0-cp311-cp311-macosx_11_0_arm64.whl (23.6 MB)\n",
      "Using cached numpy-1.25.2-cp311-cp311-macosx_11_0_arm64.whl (14.0 MB)\n",
      "Installing collected packages: numpy, pyarrow\n",
      "Successfully installed numpy-1.25.2 pyarrow-13.0.0\n"
     ]
    }
   ],
   "source": [
    "!pip install pyarrow"
   ]
  },
  {
   "cell_type": "code",
   "execution_count": 16,
   "id": "772bd5da-3def-4a03-a76f-4975dae8ac5e",
   "metadata": {},
   "outputs": [
    {
     "data": {
      "text/plain": [
       "30074434"
      ]
     },
     "execution_count": 16,
     "metadata": {},
     "output_type": "execute_result"
    }
   ],
   "source": [
    "len(r.content)"
   ]
  },
  {
   "cell_type": "code",
   "execution_count": 12,
   "id": "609dd3c1-da9d-4a06-84e7-83dcdd16ef47",
   "metadata": {},
   "outputs": [],
   "source": [
    "from deck_widget import DeckWidget"
   ]
  },
  {
   "cell_type": "code",
   "execution_count": 13,
   "id": "1d0da41b-e6ea-4440-9f9b-b50f08a5a7e0",
   "metadata": {},
   "outputs": [],
   "source": [
    "widget = DeckWidget()"
   ]
  },
  {
   "cell_type": "code",
   "execution_count": 14,
   "id": "6c85d1c4-2bf4-4094-97f0-790b887e9016",
   "metadata": {},
   "outputs": [],
   "source": [
    "widget.buffer = r.content"
   ]
  },
  {
   "cell_type": "code",
   "execution_count": 15,
   "id": "b9af132e-6348-4650-a2ea-69e0389341af",
   "metadata": {},
   "outputs": [
    {
     "data": {
      "application/vnd.jupyter.widget-view+json": {
       "model_id": "649d90c8182b420a8d3d4d710634e253",
       "version_major": 2,
       "version_minor": 0
      },
      "text/plain": [
       "DeckWidget(buffer=b'PAR1\\x15\\x04\\x15\\xf0\\xc5I\\x15\\xa0\\x851L\\x15\\xbc\\xb1\\x12\\x15\\x00\\x12\\x00\\x00[w193`\\xe2\\x9b\\…"
      ]
     },
     "execution_count": 15,
     "metadata": {},
     "output_type": "execute_result"
    }
   ],
   "source": [
    "widget"
   ]
  },
  {
   "cell_type": "code",
   "execution_count": null,
   "id": "80effdad-cc13-4da1-873b-34238750af86",
   "metadata": {},
   "outputs": [],
   "source": []
  }
 ],
 "metadata": {
  "kernelspec": {
   "display_name": "deck_widget",
   "language": "python",
   "name": "deck_widget"
  },
  "language_info": {
   "codemirror_mode": {
    "name": "ipython",
    "version": 3
   },
   "file_extension": ".py",
   "mimetype": "text/x-python",
   "name": "python",
   "nbconvert_exporter": "python",
   "pygments_lexer": "ipython3",
   "version": "3.11.4"
  }
 },
 "nbformat": 4,
 "nbformat_minor": 5
}
